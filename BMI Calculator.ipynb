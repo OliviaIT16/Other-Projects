{
 "cells": [
  {
   "cell_type": "markdown",
   "id": "5cb35175-40a5-43f8-b66d-c031804147b9",
   "metadata": {},
   "source": [
    "# BMI Calculator"
   ]
  },
  {
   "cell_type": "code",
   "execution_count": 29,
   "id": "2c077fd7-3023-4dd2-a037-710805d47230",
   "metadata": {},
   "outputs": [
    {
     "name": "stdin",
     "output_type": "stream",
     "text": [
      "Enter your name:  Olivia\n",
      "Enter your weight in pounds:  108\n",
      "Enter your height in inches:  62\n"
     ]
    },
    {
     "name": "stdout",
     "output_type": "stream",
     "text": [
      "19.75130072840791\n",
      "Olivia, you are normal weight.\n"
     ]
    }
   ],
   "source": [
    "name = input(\"Enter your name: \")\n",
    "weight = int(input(\"Enter your weight in pounds: \"))\n",
    "height = int(input(\"Enter your height in inches: \"))\n",
    "BMI = (weight * 703)/(height * height)\n",
    "print(BMI)\n",
    "\n",
    "if BMI>0:\n",
    "    if(BMI<18.5):\n",
    "        print(name + \", you are underweight.\")\n",
    "    elif(BMI<=24.9):\n",
    "        print(name + \", you are normal weight.\")\n",
    "    elif(BMI<29.9):\n",
    "        print(name + \",you are overweight.\")\n",
    "    elif(BMI<34.9):\n",
    "        print(name + \", you are obese.\")\n",
    "    elif(BMI<39.9):\n",
    "        print(name + \", you are severely obese.\")\n",
    "    else: \n",
    "        print(\"You are morbidly obese.\")\n",
    "else:\n",
    "    print(\"Enter valid input\")"
   ]
  },
  {
   "cell_type": "code",
   "execution_count": 15,
   "id": "97f1d660-c6b6-4555-ac05-3cfb832e6ed0",
   "metadata": {},
   "outputs": [
    {
     "data": {
      "text/plain": [
       "str"
      ]
     },
     "execution_count": 15,
     "metadata": {},
     "output_type": "execute_result"
    }
   ],
   "source": [
    "type(height)"
   ]
  },
  {
   "cell_type": "code",
   "execution_count": 9,
   "id": "ed982760-1507-4660-8fad-1c87c25fb36a",
   "metadata": {},
   "outputs": [
    {
     "name": "stdout",
     "output_type": "stream",
     "text": [
      "108\n"
     ]
    }
   ],
   "source": [
    "print(weight)"
   ]
  },
  {
   "cell_type": "code",
   "execution_count": null,
   "id": "e9bf9b74-6b52-42bc-8b90-8b9790b8d883",
   "metadata": {},
   "outputs": [],
   "source": [
    "# Under 18.5 Underweight Minimal\n",
    "# 18.5 - 24.9 Normal Weight Minimal\n",
    "# 25 - 29.9 Overweight Increased\n",
    "# 30 - 34.9 Obese High\n",
    "# 35 - 39.9 Severely Obese Very High\n",
    "# 40 and over Morbidly Obese Extremely High"
   ]
  },
  {
   "cell_type": "code",
   "execution_count": 27,
   "id": "d3b64e1a-cb8f-491c-8329-276147098bb4",
   "metadata": {},
   "outputs": [
    {
     "name": "stdout",
     "output_type": "stream",
     "text": [
      "Olivia, you are normal weight.\n"
     ]
    }
   ],
   "source": [
    "if BMI>0:\n",
    "    if(BMI<18.5):\n",
    "        print(name + \", you are underweight.\")\n",
    "    elif(BMI<=24.9):\n",
    "        print(name + \", you are normal weight.\")\n",
    "    elif(BMI<29.9):\n",
    "        print(name + \",you are overweight.\")\n",
    "    elif(BMI<34.9):\n",
    "        print(name + \", you are obese.\")\n",
    "    elif(BMI<39.9):\n",
    "        print(name + \", you are severely obese.\")\n",
    "    else: \n",
    "        print(\"You are morbidly obese.\")\n",
    "else:\n",
    "    print(\"Enter valid input\")"
   ]
  },
  {
   "cell_type": "code",
   "execution_count": null,
   "id": "08d160cb-af3d-4f22-96a8-2244e5ea9114",
   "metadata": {},
   "outputs": [],
   "source": [
    "#BMI = (weight in pounds x 703)/(height in inches x height in inches)"
   ]
  }
 ],
 "metadata": {
  "kernelspec": {
   "display_name": "Python 3 (ipykernel)",
   "language": "python",
   "name": "python3"
  },
  "language_info": {
   "codemirror_mode": {
    "name": "ipython",
    "version": 3
   },
   "file_extension": ".py",
   "mimetype": "text/x-python",
   "name": "python",
   "nbconvert_exporter": "python",
   "pygments_lexer": "ipython3",
   "version": "3.12.7"
  }
 },
 "nbformat": 4,
 "nbformat_minor": 5
}
